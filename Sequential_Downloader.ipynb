{
 "cells": [
  {
   "cell_type": "code",
   "execution_count": 3,
   "metadata": {},
   "outputs": [],
   "source": [
    "# for a batch of sequentially numbered JPG files\n",
    "import requests\n",
    "import shutil\n",
    "\n",
    "# When using in jupyter notebooks, uncomment %%capture\n",
    "# %%capture\n",
    "\n",
    "from tqdm import tqdm_notebook as tqdm\n",
    "\n",
    "# If using pandas, uncomment below\n",
    "# tqdm().pandas()"
   ]
  },
  {
   "cell_type": "code",
   "execution_count": 7,
   "metadata": {},
   "outputs": [],
   "source": [
    "# Change URL below to the source website:\n",
    "template1 = \"https://url/to/be/downloaded/image_number_\"\n",
    "template2 = \".jpg\"\n",
    "\n",
    "image_count = 166\n",
    "\n",
    "# Change the filepath below to the existing target directory\n",
    "target_dir = \"/Users/username/target/directory/for/images\""
   ]
  },
  {
   "cell_type": "code",
   "execution_count": null,
   "metadata": {},
   "outputs": [],
   "source": [
    "# progress_bar = tqdm(total=image_count, unit='kb', unit_scale=True)\n",
    "error_status = []\n",
    "\n",
    "for i in tqdm(range(image_count)):\n",
    "    image_url = template1 + str(i) + template2\n",
    "    filename = image_url.split(\"/\")[-1]\n",
    "    target_file = target_dir + filename\n",
    "    response = requests.get(image_url, stream=True)\n",
    "    if response.status_code == 200:\n",
    "        response.raw.decode_content = True\n",
    "        with open(target_file, 'wb') as f:\n",
    "            shutil.copyfileobj(response.raw, f)\n",
    "    else:\n",
    "        error_status.append(filename)\n",
    "#     progress_bar.update(1)\n",
    "# progress_bar.close()\n",
    "if error_status:\n",
    "    print(\"The following files did not download: \", *error_status, sep='\\n')"
   ]
  },
  {
   "cell_type": "code",
   "execution_count": null,
   "metadata": {},
   "outputs": [],
   "source": []
  }
 ],
 "metadata": {
  "kernelspec": {
   "display_name": "Web Tools",
   "language": "python",
   "name": "sequence_generator-oyi3swm-"
  },
  "language_info": {
   "codemirror_mode": {
    "name": "ipython",
    "version": 3
   },
   "file_extension": ".py",
   "mimetype": "text/x-python",
   "name": "python",
   "nbconvert_exporter": "python",
   "pygments_lexer": "ipython3",
   "version": "3.7.4"
  }
 },
 "nbformat": 4,
 "nbformat_minor": 4
}
