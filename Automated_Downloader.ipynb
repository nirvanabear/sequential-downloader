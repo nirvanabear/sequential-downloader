{
 "cells": [
  {
   "cell_type": "code",
   "execution_count": null,
   "id": "9cd807b4-bb93-4a7f-8c69-ac7eb1f1f55c",
   "metadata": {},
   "outputs": [],
   "source": [
    "print(selenium.__version__)"
   ]
  },
  {
   "cell_type": "code",
   "execution_count": null,
   "id": "81e93784-62c6-40cd-9add-d417a0b7bf65",
   "metadata": {
    "tags": []
   },
   "outputs": [],
   "source": [
    "# TODO:\n",
    "# Priority:\n",
    "# re needs to accomodate &quot; instead of \"\n",
    "# Decisions re: how to organize line-by-line vs. dialog audio playlists.\n",
    "\n",
    "# Nice to have:\n",
    "# User input interface:\n",
    "    # command line\n",
    "    # text file\n",
    "# What is causing the TimeoutException???\n",
    "    # Message: TimedPromise timed out after 2000 ms\n",
    "    # Also, MaxRetryError???"
   ]
  },
  {
   "cell_type": "code",
   "execution_count": null,
   "id": "64986f41-1da7-47bf-8382-3ce782349a48",
   "metadata": {},
   "outputs": [],
   "source": [
    "main_page = \"page for login\"\n",
    "downloads = \"local location for downloading files to be processed\"\n",
    "file_type = \"for example: audio/mpeg\"\n",
    "user_login = \"login id\"\n",
    "user_pass = \"password\""
   ]
  },
  {
   "cell_type": "code",
   "execution_count": null,
   "id": "02006f0f-95ce-41c2-bbd9-28b03773a6f7",
   "metadata": {
    "tags": []
   },
   "outputs": [],
   "source": [
    "from selenium.webdriver.firefox.options import Options\n",
    "from selenium import webdriver\n",
    "from selenium.webdriver.common.by import By\n",
    "from selenium.webdriver.common.keys import Keys\n",
    "import keyboard, time\n",
    "import re\n",
    "import os\n",
    "from mutagen.mp3 import MP3\n",
    "from mutagen.easyid3 import EasyID3 \n",
    "\n",
    "options = Options()\n",
    "# folderList: 0 is the desktop, 1 is downloads folder, 2 is last location\n",
    "options.set_preference(\"browser.download.folderList\", 2)\n",
    "options.set_preference(\"browser.download.manager.showWhenStarting\", False)\n",
    "options.set_preference(\"browser.download.dir\", downloads)\n",
    "options.set_preference(\"media.play-stand-alone\", False),\n",
    "options.set_preference(\"browser.helperApps.neverAsk.saveToDisk\", file_type)\n",
    "\n",
    "browser = webdriver.Firefox(options=options)\n",
    "browser.set_page_load_timeout(3)"
   ]
  },
  {
   "cell_type": "markdown",
   "id": "08df9380-7616-488a-891d-699bc88d2ac7",
   "metadata": {},
   "source": [
    "* <u>Wait to load browser</u>"
   ]
  },
  {
   "cell_type": "code",
   "execution_count": null,
   "id": "313238cc-9bb3-46bf-be84-4c5497f11631",
   "metadata": {},
   "outputs": [],
   "source": [
    "try:\n",
    "    browser.get(main_page)\n",
    "except:\n",
    "    print(\"Timeout!\")"
   ]
  },
  {
   "cell_type": "markdown",
   "id": "a6316d13-d6b9-4a73-8ed3-9a2e9c6829df",
   "metadata": {},
   "source": [
    "* <u>Wait for page</u>"
   ]
  },
  {
   "cell_type": "code",
   "execution_count": null,
   "id": "b68a9692-cb45-4b10-8079-aef368d5c604",
   "metadata": {
    "tags": []
   },
   "outputs": [],
   "source": [
    "sign_in = browser.find_element(by=By.TAG_NAME, value=\"button\")\n",
    "webdriver.ActionChains(browser).click(sign_in).perform()\n",
    "username = browser.find_element(By.NAME, \"amember_login\")\n",
    "webdriver.ActionChains(browser).click(username).perform()\n",
    "username.send_keys(user_login)\n",
    "password = browser.find_element(By.NAME, \"amember_pass\")\n",
    "webdriver.ActionChains(browser).click(password).perform()\n",
    "password.send_keys(user_pass + Keys.RETURN)"
   ]
  },
  {
   "cell_type": "markdown",
   "id": "dbd2916f-5f06-449a-aadf-c5ac81e63f0d",
   "metadata": {},
   "source": [
    "<br>\n",
    "\n",
    "---\n",
    "* <u>Input Chapter Name and Web address</u>"
   ]
  },
  {
   "cell_type": "code",
   "execution_count": null,
   "id": "85e482e8-1267-4e4f-98aa-14352834dc1c",
   "metadata": {},
   "outputs": [],
   "source": [
    "target_page = \"page with links to files to be downloaded\"\n",
    "\n",
    "album_name = \"Album name\"\n",
    "\n",
    "passage = '''Lines of text associated with the file links'''\n",
    "\n",
    "################################\n",
    "\n",
    "artist = \"Artist\"\n",
    "\n",
    "output_dir = \"Location where processed files finally end up\"\n",
    "\n",
    "source_code_pattern = r'For example: data-url=\"(.+)\" data-text=\"'"
   ]
  },
  {
   "cell_type": "code",
   "execution_count": null,
   "id": "f192502b-53a4-4f58-a6a4-076f331a42b5",
   "metadata": {
    "tags": []
   },
   "outputs": [],
   "source": [
    "try:\n",
    "    browser.get(target_page)\n",
    "except:\n",
    "    print(\"Timeout!\")\n",
    "\n",
    "passage_list = passage.split('\\n')\n",
    "\n",
    "# Truncate the A:, B: prefixes.\n",
    "sentence_list = []\n",
    "for each in passage_list:\n",
    "    sentence_list.append(each[3:])\n",
    "sentence_list\n",
    "    \n",
    "# Add escapes for symbols with special regex meaning.\n",
    "sentence_list2 = []\n",
    "for every in sentence_list:\n",
    "    new_sentence = \"\"\n",
    "    for each in every:\n",
    "        # print(each)\n",
    "        if each == \"?\":\n",
    "            new_sentence = new_sentence + \"\\?\"\n",
    "        elif each == r\"(\":\n",
    "            new_sentence = new_sentence + \"\\(\"\n",
    "        elif each == r\")\":\n",
    "            new_sentence = new_sentence + \"\\)\"\n",
    "        elif each == r\"*\":\n",
    "            new_sentence = new_sentence + \"\\*\"\n",
    "        else:\n",
    "            new_sentence = new_sentence + each\n",
    "    sentence_list2.append(new_sentence)\n",
    "print(sentence_list2)\n",
    "\n",
    "# Number of tracks in the chapter.\n",
    "track_total = len(sentence_list2)\n",
    "\n",
    "# Loads source code of page to be parsed.\n",
    "# Accessibility permissions for Terminal are needed for the following code to function.\n",
    "html = browser.page_source\n",
    "time.sleep(3)\n",
    "# print(html)"
   ]
  },
  {
   "cell_type": "markdown",
   "id": "d9831875-056f-4c83-9436-6d0455d56eee",
   "metadata": {},
   "source": [
    "* <u>Wait for source to load</u>"
   ]
  },
  {
   "cell_type": "code",
   "execution_count": null,
   "id": "5d490a9f-c83b-480c-8547-3049c7239d9d",
   "metadata": {},
   "outputs": [],
   "source": [
    "# Downloads the target files.\n",
    "for each in sentence_list2:\n",
    "    # Target sentence and url pattern in source code.\n",
    "    pattern3 = source_code_pattern + str(each)\n",
    "\n",
    "    # Target url scraped.\n",
    "    urls = re.findall(pattern3, html)\n",
    "    \n",
    "    # Opens page with mp3 track. Firefox preferences previously set will automatically download the file.\n",
    "    try:\n",
    "        browser.get(urls[0])\n",
    "    except:\n",
    "        print(\"Timeout!\")\n",
    "        \n",
    "print(\"*************** \" + str(len(sentence_list2)) + \" ***************\")"
   ]
  },
  {
   "cell_type": "markdown",
   "id": "906422b3-d595-4ebe-b3c8-0099a9356f22",
   "metadata": {},
   "source": [
    "* <u>Check downloads</u>"
   ]
  },
  {
   "cell_type": "code",
   "execution_count": null,
   "id": "8e0035c3-b188-4a16-b131-8788764db085",
   "metadata": {
    "tags": []
   },
   "outputs": [],
   "source": [
    "# Rename mp3 files with number and  corresponding sentence, instead of just a number. Also, adds mp3 metadata for album, artist and track number.\n",
    "for i in range(len(sentence_list)):\n",
    "    new_name = downloads + \"/\" + str(i+1) + \". \" + sentence_list[i] + \".mp3\"\n",
    "    old_name = downloads + \"/\" + str(i+1) + \".mp3\"\n",
    "    try:\n",
    "        os.rename(old_name, new_name)\n",
    "        mp3file = MP3(new_name, ID3=EasyID3)\n",
    "        mp3file['album'] = [album_name]\n",
    "        mp3file['albumartist'] = [artist]\n",
    "        mp3file['tracknumber'] = str(i+1) + '/' + str(track_total)\n",
    "        mp3file.save()\n",
    "    except:\n",
    "        print(\"Track Label or Metadata Error\")\n",
    "\n",
    "# output_dir = \"/Users/nirvanabear/Documents/code/Small_Projects/sequential-downloader/frenchpod101\"\n",
    "chapter_dir = output_dir + \"/\" + album_name\n",
    "os.rename(downloads, chapter_dir)\n",
    "try:\n",
    "    os.mkdir(downloads)\n",
    "except:\n",
    "    print(\"FileExistsError\")"
   ]
  },
  {
   "cell_type": "markdown",
   "id": "19e4cdb6-c080-417f-8147-29cc0d2f0869",
   "metadata": {
    "tags": []
   },
   "source": [
    "<br>\n",
    "\n",
    "---\n",
    "\n",
    "* <u>Close application</u>"
   ]
  },
  {
   "cell_type": "code",
   "execution_count": null,
   "id": "6ac72b1f-7d82-44b8-a5ea-673904490f0d",
   "metadata": {},
   "outputs": [],
   "source": [
    "browser.quit()"
   ]
  },
  {
   "cell_type": "markdown",
   "id": "c8fec676-d3e2-43f8-bba4-e6cba387e9d3",
   "metadata": {},
   "source": [
    "<br>\n",
    "\n",
    "---\n",
    "* <u>——— Workspace ———</u> *"
   ]
  },
  {
   "cell_type": "markdown",
   "id": "04bf3e57-b447-4f45-93b4-6266191a7a4c",
   "metadata": {},
   "source": [
    "<br>\n",
    "\n",
    "\n",
    "* <u>Applications for editing existing track names and metadata</u>"
   ]
  },
  {
   "cell_type": "code",
   "execution_count": null,
   "id": "a969a0d1-6b38-4c91-9e38-654575d2a7aa",
   "metadata": {
    "tags": []
   },
   "outputs": [],
   "source": [
    "# Edits metadata for a directory of subdirectories of mp3 files.\n",
    "from mutagen.mp3 import MP3\n",
    "from mutagen.easyid3 import EasyID3 \n",
    "import os\n",
    "import re\n",
    "\n",
    "artist name = \"\"\n",
    "\n",
    "for folder in full_path_folders:\n",
    "    # print(folder)\n",
    "    try:\n",
    "        files = os.listdir(folder)\n",
    "        # print(files)\n",
    "    except:\n",
    "        print(str(folder) + \": NotADirectoryError\")\n",
    "        continue\n",
    "    \n",
    "\n",
    "    full_path_files = [os.path.join(folder, file) for file in files]\n",
    "    # print(full_path_files)\n",
    "    album_length = len(full_path_files)\n",
    "    for track in full_path_files:\n",
    "        try:\n",
    "            track_name = os.path.basename(track)\n",
    "            track_number = re.findall(r'([0-9]+)(?=\\.)', track_name)\n",
    "            album_name = track.split(\"/\")[-2]\n",
    "            mp3file = MP3(track, ID3=EasyID3)\n",
    "            mp3file['album'] = [album_name]\n",
    "            mp3file['albumartist'] = [artist_name]\n",
    "            mp3file['tracknumber'] = track_number[0] + '/' + str(album_length)\n",
    "            mp3file.save()\n",
    "            print(mp3file)\n",
    "        except:\n",
    "            print(str(track) + \": HeaderNotFoundError\")\n",
    "            continue\n",
    "        "
   ]
  },
  {
   "cell_type": "code",
   "execution_count": null,
   "id": "5c1a1828-8425-4432-9e31-2a8c35d2c16b",
   "metadata": {},
   "outputs": [],
   "source": [
    "# Edits metadata for a directory of mp3 files.\n",
    "folder = \"\"\n",
    "files = os.listdir(folder)\n",
    "full_path_files = [os.path.join(folder, file) for file in files]\n",
    "# print(full_path_files)\n",
    "album_length = len(full_path_files)\n",
    "for track in full_path_files:\n",
    "    try:\n",
    "        track_name = os.path.basename(track)\n",
    "        track_number = re.findall(r'([0-9]+)(?=\\.)', track_name)\n",
    "        album_name = track.split(\"/\")[-2]\n",
    "        mp3file = MP3(track, ID3=EasyID3)\n",
    "        mp3file['album'] = [album_name]\n",
    "        mp3file['albumartist'] = [artist_name]\n",
    "        mp3file['tracknumber'] = track_number[0] + '/' + str(album_length)\n",
    "        mp3file.save()\n",
    "        print(mp3file)\n",
    "    except:\n",
    "        print(str(track) + \": HeaderNotFoundError\")\n",
    "        continue"
   ]
  },
  {
   "cell_type": "code",
   "execution_count": null,
   "id": "8c6bde3b-4321-4318-abc7-d9a0e9b15d4f",
   "metadata": {},
   "outputs": [],
   "source": [
    "# Adds metadata to mp3 tracks.\n",
    "# Requires track number to be part of the track name.\n",
    "test_file = \"\"\n",
    "\n",
    "track_name = os.path.basename(test_file)\n",
    "track_number = re.findall(r'([0-9]+)(?=\\.)', track_name)\n",
    "album_name = test_file.split(\"/\")[-2]\n",
    "mp3file = MP3(test_file, ID3=EasyID3)\n",
    "mp3file['album'] = [album_name]\n",
    "mp3file['albumartist'] = [artist_name]\n",
    "mp3file['tracknumber'] = track_number[0] + '/' + str(album_length)\n",
    "mp3file.save()\n",
    "# print(mp3file)"
   ]
  },
  {
   "cell_type": "code",
   "execution_count": null,
   "id": "55711704-6ede-4476-ae2d-ff447eff21f8",
   "metadata": {},
   "outputs": [],
   "source": [
    "# Finds filenames out of a full filepath.\n",
    "import re\n",
    "import os\n",
    "test_file = \"\"\n",
    "\n",
    "# Each of the below gives some kind of correct version:\n",
    "os.path.basename(test_file)\n",
    "re.findall(r'[^\\/]+(?=\\.mp3)', test_file)    # Strips out .mp3 from name\n",
    "re.findall(r'[^\\/]+(?=\\Z)', test_file)"
   ]
  },
  {
   "cell_type": "markdown",
   "id": "babc35f8-473a-42ce-b0e5-a622e8483aa7",
   "metadata": {},
   "source": [
    "<br>\n",
    "\n",
    "---\n",
    "* <u>Download Error Correction</u>"
   ]
  },
  {
   "cell_type": "code",
   "execution_count": null,
   "id": "f347ab89-40a3-4ec5-84c0-9ca0c8e39eac",
   "metadata": {},
   "outputs": [],
   "source": [
    "sentence = \"Oui, j’habite à Belleville\\\\*. Et toi ?\"\n",
    "\n",
    "pattern4 = r'data-url=\"(.+)\" data-text=\"' + str(sentence)\n",
    "\n",
    "# Target url scraped.\n",
    "urls = re.findall(pattern4, html)\n",
    "# mp3_file = urls[0].split(\"/\")[-1]\n",
    "# playlist = downloads + lesson + mp3_file\n",
    "\n",
    "try:\n",
    "    browser.get(urls[0])\n",
    "except:\n",
    "    print(\"Timeout!\")"
   ]
  },
  {
   "cell_type": "markdown",
   "id": "20fea510-7360-402d-9de1-f444216dde05",
   "metadata": {},
   "source": [
    "<br>\n",
    "\n",
    "-----\n",
    "* <u>Suffix correction</u>"
   ]
  },
  {
   "cell_type": "code",
   "execution_count": null,
   "id": "f77d5a27-0629-4cff-a6f1-a82c49f8bd7b",
   "metadata": {},
   "outputs": [],
   "source": [
    "album_name= \"Album Name\""
   ]
  },
  {
   "cell_type": "code",
   "execution_count": null,
   "id": "1ca7e81d-7878-4e70-9f80-a441b4abb200",
   "metadata": {},
   "outputs": [],
   "source": [
    "number = 8\n",
    "\n",
    "names = os.listdir(downloads + \"/\" + name)\n",
    "# print(names)\n",
    "for i in range(len(names)):\n",
    "    os.rename(downloads + \"/\" + album_name+ \"/\" + names[i], downloads + \"/\" + album_name+ \"/\" + (names[i] + \".mp3\"))"
   ]
  },
  {
   "cell_type": "markdown",
   "id": "28b49bbd-30ad-4170-a605-6fb137e78389",
   "metadata": {},
   "source": [
    "* Apple Music import script"
   ]
  },
  {
   "cell_type": "code",
   "execution_count": null,
   "id": "980835e2-e4b4-4119-afe7-6fc74fe00637",
   "metadata": {},
   "outputs": [],
   "source": [
    "osascript -e \"set volume 0\""
   ]
  },
  {
   "cell_type": "code",
   "execution_count": 28,
   "id": "812fc6a0-cb61-4c79-bd77-dee492a16b02",
   "metadata": {},
   "outputs": [
    {
     "name": "stdout",
     "output_type": "stream",
     "text": [
      "b'total 2176\\ndrwxr-xr-x   4 nirvanabear  staff     128 Mar  9 22:05 30.\\\\ Are\\\\ You\\\\ Ready\\\\ to\\\\ Rock\\\\ in\\\\ France?\\n-rw-r--r--@  1 nirvanabear  staff   15603 Mar 12 16:49 Automated_Downloader.ipynb\\n-rw-r--r--@  1 nirvanabear  staff   18403 May 20 20:43 Automated_Downloader_v1.ipynb\\n-rw-r--r--   1 nirvanabear  staff  650453 May 18 22:05 Automated_Downloader_v2.ipynb\\n-rw-r--r--   1 nirvanabear  staff    1072 Oct  3  2021 LICENSE\\n-rw-r--r--@  1 nirvanabear  staff     243 Mar 24 20:10 Pipfile\\n-rw-r--r--   1 nirvanabear  staff  115483 Mar 24 20:00 Pipfile.lock\\n-rw-r--r--@  1 nirvanabear  staff     880 Oct  3  2021 README.md\\n-rw-r--r--   1 nirvanabear  staff    2364 Mar  6 10:42 Sequential_Downloader.ipynb\\n-rw-r--r--   1 nirvanabear  staff   84361 May 11 22:53 Verb_Flashcards.ipynb\\n-rw-r--r--   1 nirvanabear  staff    4974 Mar 20 18:38 Verb_Flashcards_v1.ipynb\\ndrwxr-xr-x   2 nirvanabear  staff      64 May 18 22:23 downloads\\ndrwxr-xr-x  51 nirvanabear  staff    1632 May 18 22:23 frenchpod101\\n-rw-r--r--   1 nirvanabear  staff  193395 May 20 18:53 geckodriver.log\\n'\n"
     ]
    }
   ],
   "source": [
    "import subprocess\n",
    "#subprocess.check_output(['ls', '-l'])  # All that is technically needed...\n",
    "print(subprocess.check_output(['ls', '-l']))"
   ]
  },
  {
   "cell_type": "code",
   "execution_count": null,
   "id": "d63b5eec-c4c9-4f14-bee9-783cc7abda0d",
   "metadata": {},
   "outputs": [],
   "source": [
    "# import asyncio\n",
    "# from asyncio.subprocess import Process\n",
    " \n",
    " \n",
    "# async def main():\n",
    "#     process: Process = await asyncio.create_subprocess_exec('ls', '-l')\n",
    "#     print(f'Process pid is: {process.pid}')\n",
    "#     status_code = await process.wait()\n",
    "#     print(f'Status code: {status_code}')\n",
    " \n",
    " \n",
    "# asyncio.run(main())"
   ]
  },
  {
   "cell_type": "code",
   "execution_count": 21,
   "id": "c4abb85a-0353-458b-93f5-a3a3404bc2c6",
   "metadata": {},
   "outputs": [
    {
     "name": "stdout",
     "output_type": "stream",
     "text": [
      "Process pid is: 32486\n",
      "total 2208\n",
      "drwxr-xr-x   4 nirvanabear  staff     128 Mar  9 22:05 30.\\ Are\\ You\\ Ready\\ to\\ Rock\\ in\\ France?\n",
      "-rw-r--r--@  1 nirvanabear  staff   15603 Mar 12 16:49 Automated_Downloader.ipynb\n",
      "-rw-r--r--@  1 nirvanabear  staff   28063 May 20 22:38 Automated_Downloader_v1.ipynb\n",
      "-rw-r--r--   1 nirvanabear  staff  650453 May 18 22:05 Automated_Downloader_v2.ipynb\n",
      "-rw-r--r--   1 nirvanabear  staff    1072 Oct  3  2021 LICENSE\n",
      "-rw-r--r--@  1 nirvanabear  staff     243 Mar 24 20:10 Pipfile\n",
      "-rw-r--r--   1 nirvanabear  staff  115483 Mar 24 20:00 Pipfile.lock\n",
      "-rw-r--r--@  1 nirvanabear  staff     880 Oct  3  2021 README.md\n",
      "-rw-r--r--   1 nirvanabear  staff    2364 Mar  6 10:42 Sequential_Downloader.ipynb\n",
      "-rw-r--r--   1 nirvanabear  staff   84361 May 11 22:53 Verb_Flashcards.ipynb\n",
      "-rw-r--r--   1 nirvanabear  staff    4974 Mar 20 18:38 Verb_Flashcards_v1.ipynb\n",
      "-rw-r--r--   1 nirvanabear  staff     175 May 20 22:39 addsongs.scpt\n",
      "-rw-r--r--   1 nirvanabear  staff     302 May 20 22:33 addsongs.txt\n",
      "drwxr-xr-x   2 nirvanabear  staff      64 May 18 22:23 downloads\n",
      "drwxr-xr-x  51 nirvanabear  staff    1632 May 18 22:23 frenchpod101\n",
      "-rw-r--r--   1 nirvanabear  staff  193395 May 20 18:53 geckodriver.log\n",
      "Status code: 0\n"
     ]
    }
   ],
   "source": [
    "import asyncio\n",
    "from asyncio.subprocess import Process\n",
    "\n",
    "process: Process = await asyncio.create_subprocess_exec('ls', '-l')\n",
    "print(f'Process pid is: {process.pid}')\n",
    "status_code = await process.wait()\n",
    "print(f'Status code: {status_code}')"
   ]
  },
  {
   "cell_type": "code",
   "execution_count": null,
   "id": "8b9e073d-e96b-45e9-9177-306677b4ca9a",
   "metadata": {},
   "outputs": [],
   "source": [
    "from os import listdir\n",
    "import re\n",
    "\n",
    "named_folder = r\"/your/file/path/here\"\n",
    "renamed_folder = re.sub(\"/\", \":\", named_folder)[1:]\n",
    "renamed_folder = \"Macintosh HD:\" + renamed_folder\n",
    "\n",
    "print(renamed_folder)\n",
    "\n",
    "listdir(named_folder)"
   ]
  },
  {
   "cell_type": "code",
   "execution_count": 40,
   "id": "43bdbc25-d583-422e-8fb6-7336a2531bf2",
   "metadata": {},
   "outputs": [
    {
     "name": "stderr",
     "output_type": "stream",
     "text": [
      "7:8: syntax error: Expected “given”, “in”, “of”, expression, “with”, “without”, other parameter name, etc. but found “/”. (-2741)\n"
     ]
    }
   ],
   "source": [
    "# process: Process = await asyncio.create_subprocess_exec('osascript', '-e', f'''on run {named_folder}\n",
    "#   set folder_alias to POSIX file named_folder\n",
    "#   tell application \"Music\"\n",
    "#     add folder_alias to library Playlist 1\n",
    "#   end tell\n",
    "# end run''')"
   ]
  },
  {
   "cell_type": "code",
   "execution_count": null,
   "id": "0640b477-56dd-4eea-bf77-25859e6e8bfa",
   "metadata": {},
   "outputs": [],
   "source": [
    "# first_attempt = f'''#!/usr/bin/osascript\n",
    "# on run {named_folder}\n",
    "#   set folder_alias to POSIX file {named_folder}\n",
    "#   tell application \"Music\"\n",
    "#     add folder_alias to library Playlist 1\n",
    "#   end tell\n",
    "# end run'''\n",
    "\n",
    "# print(first_attempt)"
   ]
  },
  {
   "cell_type": "code",
   "execution_count": 79,
   "id": "31f02b30-43d6-4f06-b3f7-f321396cb660",
   "metadata": {},
   "outputs": [],
   "source": [
    "add_script = f'''#!/usr/bin/osascript\n",
    "set theFolder to {renamed_folder2} as string\n",
    "set itemList to list folder theFolder without invisibles\n",
    "\n",
    "repeat with i in itemList\n",
    "\tset theFileString to (theFolder & i) as string\n",
    "\tset theFileAlias to alias theFileString\n",
    "\ttell application \"Music\"\n",
    "\t\tadd (theFileAlias)\n",
    "\tend tell\n",
    "end repeat'''"
   ]
  },
  {
   "cell_type": "code",
   "execution_count": 80,
   "id": "8f7edadc-872a-4bb1-8cf1-d53f21e21212",
   "metadata": {},
   "outputs": [],
   "source": [
    "with open(\"addsongs.scpt\", \"w\") as f:\n",
    "    f.write(add_script)"
   ]
  },
  {
   "cell_type": "code",
   "execution_count": null,
   "id": "235eafd7-550d-486a-b7c4-3b699612efb2",
   "metadata": {},
   "outputs": [],
   "source": [
    "with open(r\"addsongs.scpt\", \"r\") as f:\n",
    "    f.seek(0)\n",
    "    print(f.readlines())"
   ]
  },
  {
   "cell_type": "code",
   "execution_count": 25,
   "id": "27b807bf-822f-43e9-abd3-97c507c663b7",
   "metadata": {},
   "outputs": [
    {
     "name": "stderr",
     "output_type": "stream",
     "text": [
      "0:1: syntax error: A “/” can’t go here. (-2740)\n"
     ]
    }
   ],
   "source": [
    "process: Process = await asyncio.create_subprocess_exec('osascript', '-e', '/your/file/path/here.scpt', named_folder)"
   ]
  },
  {
   "cell_type": "code",
   "execution_count": null,
   "id": "a7e9225c-e098-4dac-a0e7-e8e07bf37698",
   "metadata": {},
   "outputs": [],
   "source": [
    "renamed_folder2 = str.split(renamed_folder)\n",
    "print('\\ '.join(renamed_folder2))"
   ]
  },
  {
   "cell_type": "code",
   "execution_count": null,
   "id": "dc3aec73-f65f-48d6-9dc7-a24d57f4208e",
   "metadata": {},
   "outputs": [],
   "source": [
    "\n",
    "    "
   ]
  }
 ],
 "metadata": {
  "kernelspec": {
   "display_name": "Web Tools",
   "language": "python",
   "name": "sequential-downloader-4zb48iqw"
  },
  "language_info": {
   "codemirror_mode": {
    "name": "ipython",
    "version": 3
   },
   "file_extension": ".py",
   "mimetype": "text/x-python",
   "name": "python",
   "nbconvert_exporter": "python",
   "pygments_lexer": "ipython3",
   "version": "3.9.10"
  }
 },
 "nbformat": 4,
 "nbformat_minor": 5
}
