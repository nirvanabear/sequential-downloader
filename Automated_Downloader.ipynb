{
 "cells": [
  {
   "cell_type": "code",
   "execution_count": null,
   "id": "9cd807b4-bb93-4a7f-8c69-ac7eb1f1f55c",
   "metadata": {},
   "outputs": [],
   "source": [
    "print(selenium.__version__)"
   ]
  },
  {
   "cell_type": "code",
   "execution_count": null,
   "id": "81e93784-62c6-40cd-9add-d417a0b7bf65",
   "metadata": {
    "tags": []
   },
   "outputs": [],
   "source": [
    "# TODO:\n",
    "# What is causing the TimeoutException???\n",
    "    # Message: TimedPromise timed out after 2000 ms\n",
    "    # Also, MaxRetryError???\n",
    "# Exception handling for NameError when handling TimeoutException.\n",
    "# Username/password completion.\n",
    "# User input interface:\n",
    "    # command line\n",
    "    # text file\n",
    "# Decisions re: how to organize line-by-line vs. dialog audio playlists.\n",
    "# Uploading to iTunes playlists.\n",
    "# Quit firefox when done."
   ]
  },
  {
   "cell_type": "markdown",
   "id": "d6c3ea35-2fd0-4ecc-a8da-ec274d9f5c99",
   "metadata": {},
   "source": [
    "* <u>Chapter Number and Title</u>\n",
    "* <u>Restart Kernel</u>"
   ]
  },
  {
   "cell_type": "code",
   "execution_count": null,
   "id": "9e5031b6-d830-4ba5-8407-188de932294f",
   "metadata": {},
   "outputs": [],
   "source": [
    "name = \"Directory Title\""
   ]
  },
  {
   "cell_type": "code",
   "execution_count": null,
   "id": "f66bbec4-a768-46ed-b35f-3e98736790a2",
   "metadata": {},
   "outputs": [],
   "source": [
    "target_dir = \"/target_directory\"\n",
    "\n",
    "import os\n",
    "\n",
    "directory = target_dir + \"/\" + name\n",
    "directory\n",
    "try:\n",
    "    os.mkdir(directory)\n",
    "except:\n",
    "    print(\"FileExistsError\")"
   ]
  },
  {
   "cell_type": "code",
   "execution_count": null,
   "id": "c454bc19-fb6b-43b0-85e7-0cee69adab53",
   "metadata": {
    "tags": []
   },
   "outputs": [],
   "source": [
    "from selenium.webdriver.firefox.options import Options\n",
    "from selenium import webdriver\n",
    "from selenium.webdriver.common.by import By\n",
    "from selenium.webdriver.common.keys import Keys\n",
    "import keyboard, time\n",
    "import re\n",
    "\n",
    "options = Options()\n",
    "# folderList: 0 is the desktop, 1 is downloads folder, 2 is last location\n",
    "options.set_preference(\"browser.download.folderList\", 2)\n",
    "options.set_preference(\"browser.download.manager.showWhenStarting\", False)\n",
    "options.set_preference(\"browser.download.dir\", directory)\n",
    "# options.set_preference(\"browser.helperApps.neverAsk.saveToDisk\", \"audio/mpeg\")\n",
    "options.set_preference(\"media.play-stand-alone\", False),\n",
    "options.set_preference(\"browser.helperApps.neverAsk.saveToDisk\", \"audio/mpeg\")\n",
    "\n",
    "\n",
    "browser = webdriver.Firefox(options=options)\n",
    "browser.set_page_load_timeout(3)"
   ]
  },
  {
   "cell_type": "markdown",
   "id": "08df9380-7616-488a-891d-699bc88d2ac7",
   "metadata": {},
   "source": [
    "* <u>Wait to load browser</u>"
   ]
  },
  {
   "cell_type": "code",
   "execution_count": null,
   "id": "6b6714e2-ee21-4e76-823c-43b531ecdfcf",
   "metadata": {},
   "outputs": [],
   "source": [
    "try:\n",
    "    browser.get(\"https://www.frenchpod101.com/\")\n",
    "except:\n",
    "    print(\"Timeout!\")"
   ]
  },
  {
   "cell_type": "markdown",
   "id": "a6316d13-d6b9-4a73-8ed3-9a2e9c6829df",
   "metadata": {},
   "source": [
    "* <u>Wait for page</u>"
   ]
  },
  {
   "cell_type": "code",
   "execution_count": null,
   "id": "b68a9692-cb45-4b10-8079-aef368d5c604",
   "metadata": {
    "tags": []
   },
   "outputs": [],
   "source": [
    "from selenium.webdriver.common.by import By\n",
    "\n",
    "sign_in = browser.find_element(by=By.TAG_NAME, value=\"button\")\n",
    "webdriver.ActionChains(browser).click(sign_in).perform()\n",
    "username = browser.find_element(By.NAME, \"amember_login\")\n",
    "webdriver.ActionChains(browser).click(username).perform()\n",
    "username.send_keys(\"username\")\n",
    "password = browser.find_element(By.NAME, \"amember_pass\")\n",
    "webdriver.ActionChains(browser).click(password).perform()\n",
    "password.send_keys(\"password\" + Keys.RETURN)"
   ]
  },
  {
   "cell_type": "markdown",
   "id": "dbd2916f-5f06-449a-aadf-c5ac81e63f0d",
   "metadata": {},
   "source": [
    "* <u>Web address</u>"
   ]
  },
  {
   "cell_type": "code",
   "execution_count": null,
   "id": "d5e7a296-5945-4f05-a9c2-4f3a21c9efdd",
   "metadata": {
    "tags": []
   },
   "outputs": [],
   "source": [
    "try:\n",
    "    browser.get(\"https://www.example.com\")\n",
    "except:\n",
    "    print(\"Timeout!\")"
   ]
  },
  {
   "cell_type": "markdown",
   "id": "91434e9b-5313-4c77-be7f-70b717ef1cb2",
   "metadata": {},
   "source": [
    "* <u>Text</u>"
   ]
  },
  {
   "cell_type": "code",
   "execution_count": null,
   "id": "29f44dac-8ba7-4a69-853f-ebedb98ea135",
   "metadata": {},
   "outputs": [],
   "source": [
    "passage = '''Lines of text associated with the audio to be downloaded'''"
   ]
  },
  {
   "cell_type": "code",
   "execution_count": null,
   "id": "100c4c06-f73e-44f9-a689-4dd6c78ad624",
   "metadata": {},
   "outputs": [],
   "source": [
    "passage_list = passage.split('\\n')\n",
    "\n",
    "# Truncate the A:, B: prefixes.\n",
    "sentence_list = []\n",
    "for each in passage_list:\n",
    "    sentence_list.append(each[3:])\n",
    "sentence_list\n",
    "    "
   ]
  },
  {
   "cell_type": "code",
   "execution_count": null,
   "id": "7709398e-6946-4af1-bf45-c553e5347b50",
   "metadata": {},
   "outputs": [],
   "source": [
    "sentence_list2 = []\n",
    "for every in sentence_list:\n",
    "    new_sentence = \"\"\n",
    "    for each in every:\n",
    "        # print(each)\n",
    "        if each == \"?\":\n",
    "            new_sentence = new_sentence + \"\\?\"\n",
    "        elif each == r\"(\":\n",
    "            new_sentence = new_sentence + \"\\(\"\n",
    "        elif each == r\")\":\n",
    "            new_sentence = new_sentence + \"\\)\"\n",
    "        else:\n",
    "            new_sentence = new_sentence + each\n",
    "    sentence_list2.append(new_sentence)\n",
    "sentence_list2"
   ]
  },
  {
   "cell_type": "code",
   "execution_count": null,
   "id": "19cfcfa4-033e-4d59-b0dc-4931b2ca294f",
   "metadata": {},
   "outputs": [],
   "source": [
    "# TODO:\n",
    "# Username/Password input.\n",
    "\n",
    "    # Accessibility permissions for Terminal are needed for the following code to function."
   ]
  },
  {
   "cell_type": "code",
   "execution_count": null,
   "id": "c87a4ed4-0471-411c-85bf-2fda3295f476",
   "metadata": {
    "tags": []
   },
   "outputs": [],
   "source": [
    "html = browser.page_source\n",
    "time.sleep(3)\n",
    "# print(html)"
   ]
  },
  {
   "cell_type": "markdown",
   "id": "d9831875-056f-4c83-9436-6d0455d56eee",
   "metadata": {},
   "source": [
    "* <u>Wait for source to load</u>"
   ]
  },
  {
   "cell_type": "code",
   "execution_count": null,
   "id": "5d490a9f-c83b-480c-8547-3049c7239d9d",
   "metadata": {},
   "outputs": [],
   "source": [
    "# TODO:\n",
    "# Loop through the sentences.\n",
    "for each in sentence_list2:\n",
    "    # Target sentence and url pattern in source code.\n",
    "    pattern3 = r'data-url=\"(.+)\" data-text=\"' + str(each)\n",
    "\n",
    "    # Target url scraped.\n",
    "    urls = re.findall(pattern3, html)\n",
    "    # mp3_file = urls[0].split(\"/\")[-1]\n",
    "    # playlist = target_dir + lesson + mp3_file\n",
    "\n",
    "    try:\n",
    "        browser.get(urls[0])\n",
    "    except:\n",
    "        print(\"Timeout!\")"
   ]
  },
  {
   "cell_type": "markdown",
   "id": "906422b3-d595-4ebe-b3c8-0099a9356f22",
   "metadata": {},
   "source": [
    "* <u>Check downloads</u>"
   ]
  },
  {
   "cell_type": "code",
   "execution_count": null,
   "id": "5a39bce5-82be-4307-9ce0-479fed582156",
   "metadata": {},
   "outputs": [],
   "source": [
    "len(sentence_list2)"
   ]
  },
  {
   "cell_type": "code",
   "execution_count": null,
   "id": "3e474da3-0afc-41be-bbcc-c492625255b9",
   "metadata": {},
   "outputs": [],
   "source": [
    "browser.quit()"
   ]
  },
  {
   "cell_type": "code",
   "execution_count": null,
   "id": "2f88bbac-e495-450f-8bed-fda9aa651064",
   "metadata": {},
   "outputs": [],
   "source": [
    "for i in range(len(sentence_list)):\n",
    "    new_name = directory + \"/\" + str(i+1) + \". \" + sentence_list[i] + \".mp3\"\n",
    "    old_name = directory + \"/\" + str(i+1) + \".mp3\"\n",
    "    os.rename(old_name, new_name)"
   ]
  },
  {
   "cell_type": "markdown",
   "id": "20fea510-7360-402d-9de1-f444216dde05",
   "metadata": {},
   "source": [
    "<br>\n",
    "* <u>Suffix correction</u>"
   ]
  },
  {
   "cell_type": "code",
   "execution_count": null,
   "id": "f77d5a27-0629-4cff-a6f1-a82c49f8bd7b",
   "metadata": {},
   "outputs": [],
   "source": [
    "name = \"Directory Title\""
   ]
  },
  {
   "cell_type": "code",
   "execution_count": null,
   "id": "1ca7e81d-7878-4e70-9f80-a441b4abb200",
   "metadata": {},
   "outputs": [],
   "source": [
    "number = 8\n",
    "\n",
    "names = os.listdir(target_dir + \"/\" + name)\n",
    "# print(names)\n",
    "for i in range(len(names)):\n",
    "    os.rename(target_dir + \"/\" + name + \"/\" + names[i], target_dir + \"/\" + name + \"/\" + (names[i] + \".mp3\"))"
   ]
  },
  {
   "cell_type": "code",
   "execution_count": null,
   "id": "f347ab89-40a3-4ec5-84c0-9ca0c8e39eac",
   "metadata": {},
   "outputs": [],
   "source": []
  }
 ],
 "metadata": {
  "kernelspec": {
   "display_name": "Web Tools",
   "language": "python",
   "name": "sequential-downloader-4zb48iqw"
  },
  "language_info": {
   "codemirror_mode": {
    "name": "ipython",
    "version": 3
   },
   "file_extension": ".py",
   "mimetype": "text/x-python",
   "name": "python",
   "nbconvert_exporter": "python",
   "pygments_lexer": "ipython3",
   "version": "3.9.10"
  }
 },
 "nbformat": 4,
 "nbformat_minor": 5
}
