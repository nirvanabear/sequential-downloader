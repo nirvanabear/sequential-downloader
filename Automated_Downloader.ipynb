{
 "cells": [
  {
   "cell_type": "code",
   "execution_count": null,
   "id": "cd7b0b49-13a6-4518-9356-ed079d6e64c9",
   "metadata": {},
   "outputs": [],
   "source": [
    "print(selenium.__version__)"
   ]
  },
  {
   "cell_type": "code",
   "execution_count": null,
   "id": "2f5df321-155e-4b01-a516-da5cf0781f1d",
   "metadata": {
    "tags": []
   },
   "outputs": [],
   "source": [
    "# TODO:\n",
    "# What is causing the TimeoutException???\n",
    "    # Message: TimedPromise timed out after 2000 ms\n",
    "    # Also, MaxRetryError???\n",
    "# Exception handling for NameError when handling TimeoutException.\n",
    "# Username/password completion.\n",
    "# User input interface:\n",
    "    # command line\n",
    "    # text file\n",
    "# Decisions re: how to organize line-by-line vs. dialog audio playlists.\n",
    "# Uploading to iTunes playlists.\n",
    "# Quit firefox when done."
   ]
  },
  {
   "cell_type": "code",
   "execution_count": null,
   "id": "d0847465-0042-419b-8ef0-5bca1a283f8b",
   "metadata": {
    "tags": []
   },
   "outputs": [],
   "source": [
    "from selenium.webdriver.firefox.options import Options\n",
    "from selenium import webdriver\n",
    "from selenium.webdriver.common.by import By\n",
    "from selenium.webdriver.common.keys import Keys\n",
    "import keyboard, time\n",
    "import re\n",
    "import os\n",
    "\n",
    "downloads = \"/Downloads_Folder\"\n",
    "\n",
    "options = Options()\n",
    "# folderList: 0 is the desktop, 1 is downloads folder, 2 is last location\n",
    "options.set_preference(\"browser.download.folderList\", 2)\n",
    "options.set_preference(\"browser.download.manager.showWhenStarting\", False)\n",
    "options.set_preference(\"browser.download.dir\", downloads)\n",
    "options.set_preference(\"media.play-stand-alone\", False),\n",
    "options.set_preference(\"browser.helperApps.neverAsk.saveToDisk\", \"audio/mpeg\")\n",
    "\n",
    "browser = webdriver.Firefox(options=options)\n",
    "browser.set_page_load_timeout(3)"
   ]
  },
  {
   "cell_type": "markdown",
   "id": "11e260cf-c47e-4006-9174-7e427428945c",
   "metadata": {},
   "source": [
    "* <u>Wait to load browser</u>"
   ]
  },
  {
   "cell_type": "code",
   "execution_count": null,
   "id": "1b608da9-935d-4edd-ac56-251a080da674",
   "metadata": {},
   "outputs": [],
   "source": [
    "try:\n",
    "    browser.get(\"https://www.example.com/\")\n",
    "except:\n",
    "    print(\"Timeout!\")"
   ]
  },
  {
   "cell_type": "markdown",
   "id": "b8a112ff-9939-4df9-bf5a-8db4eaf598c4",
   "metadata": {},
   "source": [
    "* <u>Wait for page</u>"
   ]
  },
  {
   "cell_type": "code",
   "execution_count": null,
   "id": "5a4952b4-45e8-4f4a-8a35-e1e9983cf8a5",
   "metadata": {
    "tags": []
   },
   "outputs": [],
   "source": [
    "sign_in = browser.find_element(by=By.TAG_NAME, value=\"button\")\n",
    "webdriver.ActionChains(browser).click(sign_in).perform()\n",
    "username = browser.find_element(By.NAME, \"amember_login\")\n",
    "webdriver.ActionChains(browser).click(username).perform()\n",
    "username.send_keys(\"username\")\n",
    "password = browser.find_element(By.NAME, \"amember_pass\")\n",
    "webdriver.ActionChains(browser).click(password).perform()\n",
    "password.send_keys(\"password\" + Keys.RETURN)"
   ]
  },
  {
   "cell_type": "markdown",
   "id": "8e0bc307-c4c9-4f53-a28f-666192b6b449",
   "metadata": {},
   "source": [
    "<br>\n",
    "\n",
    "---\n",
    "* <u>Input Chapter Name and Web address</u>"
   ]
  },
  {
   "cell_type": "code",
   "execution_count": null,
   "id": "27c3bde5-4061-4007-8878-77c53dc1e17d",
   "metadata": {},
   "outputs": [],
   "source": [
    "try:\n",
    "    browser.get(\"https://www.example.com/page_with_mp3_file_links\")\n",
    "except:\n",
    "    print(\"Timeout!\")\n",
    "\n",
    "name = \"Folder Name\"\n",
    "\n",
    "passage = '''data-text associated with data-url addresses'''"
   ]
  },
  {
   "cell_type": "code",
   "execution_count": null,
   "id": "af5a2924-4986-453e-87ee-448c4e8915b9",
   "metadata": {
    "tags": []
   },
   "outputs": [],
   "source": [
    "passage_list = passage.split('\\n')\n",
    "\n",
    "# Truncate the A:, B: prefixes.\n",
    "sentence_list = []\n",
    "for each in passage_list:\n",
    "    sentence_list.append(each[3:])\n",
    "sentence_list\n",
    "    \n",
    "\n",
    "sentence_list2 = []\n",
    "for every in sentence_list:\n",
    "    new_sentence = \"\"\n",
    "    for each in every:\n",
    "        # print(each)\n",
    "        if each == \"?\":\n",
    "            new_sentence = new_sentence + \"\\?\"\n",
    "        elif each == r\"(\":\n",
    "            new_sentence = new_sentence + \"\\(\"\n",
    "        elif each == r\")\":\n",
    "            new_sentence = new_sentence + \"\\)\"\n",
    "        elif each == r\"*\":\n",
    "            new_sentence = new_sentence + \"\\*\"\n",
    "        else:\n",
    "            new_sentence = new_sentence + each\n",
    "    sentence_list2.append(new_sentence)\n",
    "print(sentence_list2)\n",
    "\n",
    "# Accessibility permissions for Terminal are needed for the following code to function.\n",
    "html = browser.page_source\n",
    "time.sleep(3)\n",
    "# print(html)"
   ]
  },
  {
   "cell_type": "markdown",
   "id": "407aa794-acd1-44e0-a1eb-48d6d276153c",
   "metadata": {},
   "source": [
    "* <u>Wait for source to load</u>"
   ]
  },
  {
   "cell_type": "code",
   "execution_count": null,
   "id": "5425d1ff-767b-4cbf-99c6-aaf31a50aef7",
   "metadata": {},
   "outputs": [],
   "source": [
    "# TODO:\n",
    "# Loop through the sentences.\n",
    "for each in sentence_list2:\n",
    "    # Target sentence and url pattern in source code.\n",
    "    pattern3 = r'data-url=\"(.+)\" data-text=\"' + str(each)\n",
    "\n",
    "    # Target url scraped.\n",
    "    urls = re.findall(pattern3, html)\n",
    "    # mp3_file = urls[0].split(\"/\")[-1]\n",
    "    # playlist = downloads + lesson + mp3_file\n",
    "\n",
    "    try:\n",
    "        browser.get(urls[0])\n",
    "    except:\n",
    "        print(\"Timeout!\")\n",
    "        \n",
    "print(\"*************** \" + str(len(sentence_list2)) + \" ***************\")"
   ]
  },
  {
   "cell_type": "markdown",
   "id": "29f313ce-2d24-4aee-b2f4-9af6d1168c6d",
   "metadata": {},
   "source": [
    "* <u>Check downloads</u>"
   ]
  },
  {
   "cell_type": "code",
   "execution_count": null,
   "id": "c940b672-b84b-49f8-95fc-e3c1452f82e6",
   "metadata": {
    "tags": []
   },
   "outputs": [],
   "source": [
    "for i in range(len(sentence_list)):\n",
    "    new_name = downloads + \"/\" + str(i+1) + \". \" + sentence_list[i] + \".mp3\"\n",
    "    old_name = downloads + \"/\" + str(i+1) + \".mp3\"\n",
    "    try:\n",
    "        os.rename(old_name, new_name)\n",
    "    except:\n",
    "        print(\"Track Label Error\")\n",
    "\n",
    "output_dir = \"/Directory to output files to\"\n",
    "chapter_dir = output_dir + \"/\" + name\n",
    "os.rename(downloads, chapter_dir)\n",
    "try:\n",
    "    os.mkdir(downloads)\n",
    "except:\n",
    "    print(\"FileExistsError\")"
   ]
  },
  {
   "cell_type": "markdown",
   "id": "35b0815e-23f0-4093-9c9a-8f35180dcf67",
   "metadata": {
    "tags": []
   },
   "source": [
    "<br>\n",
    "\n",
    "---\n",
    "\n",
    "* <u>Close application</u>"
   ]
  },
  {
   "cell_type": "code",
   "execution_count": null,
   "id": "7c8249e0-ea07-4729-b3f1-0da0ec952b80",
   "metadata": {},
   "outputs": [],
   "source": [
    "browser.quit()"
   ]
  },
  {
   "cell_type": "markdown",
   "id": "63236470-c9ea-492f-bd8f-cfaf29a458f9",
   "metadata": {},
   "source": [
    "<br>\n",
    "\n",
    "---\n",
    "* <u>Download Error Correction</u>"
   ]
  },
  {
   "cell_type": "code",
   "execution_count": null,
   "id": "f5d8d1a2-dcf9-4812-b99a-b45e06ded2c4",
   "metadata": {},
   "outputs": [],
   "source": [
    "sentence = \"Oui, j’habite à Belleville\\\\*. Et toi ?\"\n",
    "\n",
    "pattern4 = r'data-url=\"(.+)\" data-text=\"' + str(sentence)\n",
    "\n",
    "# Target url scraped.\n",
    "urls = re.findall(pattern4, html)\n",
    "# mp3_file = urls[0].split(\"/\")[-1]\n",
    "# playlist = downloads + lesson + mp3_file\n",
    "\n",
    "try:\n",
    "    browser.get(urls[0])\n",
    "except:\n",
    "    print(\"Timeout!\")"
   ]
  },
  {
   "cell_type": "markdown",
   "id": "4d15e3a6-55b0-4a2c-886f-fa42996ccea5",
   "metadata": {},
   "source": [
    "<br>\n",
    "\n",
    "-----\n",
    "* <u>Suffix correction</u>"
   ]
  },
  {
   "cell_type": "code",
   "execution_count": null,
   "id": "e4ecab75-3ab7-44c8-9b8f-270f840a6387",
   "metadata": {},
   "outputs": [],
   "source": [
    "name = \"Directory Title\""
   ]
  },
  {
   "cell_type": "code",
   "execution_count": null,
   "id": "9f2d77b4-1df5-4045-b4eb-e1f275aae13a",
   "metadata": {},
   "outputs": [],
   "source": [
    "number = 8\n",
    "\n",
    "names = os.listdir(downloads + \"/\" + name)\n",
    "# print(names)\n",
    "for i in range(len(names)):\n",
    "    os.rename(downloads + \"/\" + name + \"/\" + names[i], downloads + \"/\" + name + \"/\" + (names[i] + \".mp3\"))"
   ]
  }
 ],
 "metadata": {
  "kernelspec": {
   "display_name": "Web Tools",
   "language": "python",
   "name": "sequential-downloader-4zb48iqw"
  },
  "language_info": {
   "codemirror_mode": {
    "name": "ipython",
    "version": 3
   },
   "file_extension": ".py",
   "mimetype": "text/x-python",
   "name": "python",
   "nbconvert_exporter": "python",
   "pygments_lexer": "ipython3",
   "version": "3.9.10"
  }
 },
 "nbformat": 4,
 "nbformat_minor": 5
}
